{
 "cells": [
  {
   "cell_type": "code",
   "execution_count": 1,
   "metadata": {},
   "outputs": [
    {
     "name": "stdout",
     "output_type": "stream",
     "text": [
      "Результат: номер не валиден.\n"
     ]
    }
   ],
   "source": [
    "import re\n",
    "\n",
    "car_id = 'АБ22ВВ193'\n",
    "\n",
    "def id_valid (car_id):\n",
    "    result = re.match(r'[АВЕКМНОРСТУХ]\\d{3}(?<!000)[АВЕКМНОРСТУХ]{2}\\d{2,3}$', car_id)\n",
    "    if result != None:\n",
    "        print('Результат: номер', car_id[:6], 'валиден.\\nРегион:', car_id[6:])\n",
    "    else:\n",
    "        print('Результат: номер не валиден.')\n",
    "\n",
    "id_valid(car_id)"
   ]
  },
  {
   "cell_type": "code",
   "execution_count": 2,
   "metadata": {
    "scrolled": true
   },
   "outputs": [
    {
     "name": "stdout",
     "output_type": "stream",
     "text": [
      "Результат: Напишите функцию, которая будет удалять все последовательные повторы слов из заданной строки при помощи регулярных выражений\n"
     ]
    }
   ],
   "source": [
    "some_string = 'Напишите функцию функцию, которая будет будет будет будет удалять все все все все последовательные повторы слов из из из из заданной строки строки при помощи регулярных выражений'\n",
    "\n",
    "def duplcate_del (some_string):\n",
    "    result = re.sub(r'\\b(\\w+)(\\s+\\1)+\\b', r'\\1', some_string)\n",
    "    print('Результат:', result)\n",
    "    \n",
    "duplcate_del(some_string)"
   ]
  },
  {
   "cell_type": "code",
   "execution_count": 3,
   "metadata": {},
   "outputs": [
    {
     "name": "stdout",
     "output_type": "stream",
     "text": [
      "NFC\n"
     ]
    }
   ],
   "source": [
    "some_words = 'Near Field Communication'\n",
    "\n",
    "def acronim (some_words):\n",
    "    result = re.findall(r'\\b\\w', some_words)\n",
    "    str_result = ''\n",
    "    for el in result:\n",
    "        str_result = str_result + el\n",
    "    print(str_result.upper())\n",
    "\n",
    "acronim(some_words)"
   ]
  },
  {
   "cell_type": "code",
   "execution_count": 5,
   "metadata": {},
   "outputs": [
    {
     "name": "stdout",
     "output_type": "stream",
     "text": [
      "gmail.com : 2\n",
      "test.in : 1\n",
      "ya.ru : 2\n",
      "mail.ru : 1\n"
     ]
    }
   ],
   "source": [
    "emails = ['test@gmail.com, xyz@test.in, test@ya.ru, xyz@mail.ru, xyz@ya.ru, xyz@gmail.com']\n",
    "\n",
    "def category (emails):\n",
    "    result = re.findall(r'\\w+\\.\\w+', str(emails))\n",
    "    group_result = []\n",
    "    list_result = {}\n",
    "    for el in result:\n",
    "        if el not in group_result:\n",
    "            group_result.append(el)\n",
    "            list_result[el] = result.count(el)\n",
    "            print(el,':',list_result[el])\n",
    "\n",
    "category(emails)"
   ]
  },
  {
   "cell_type": "code",
   "execution_count": 9,
   "metadata": {},
   "outputs": [
    {
     "name": "stdout",
     "output_type": "stream",
     "text": [
      "Результат:\n",
      "\n",
      "Слов на гласные буквы: 9\n",
      "Слов на согласные буквы: 21\n"
     ]
    }
   ],
   "source": [
    "some_text = 'Эталонной реализацией Python является интерпретатор CPython, поддерживающий большинство активно используемых платформ. Он распространяется под свободной лицензией Python Software Foundation License, позволяющей использовать его без ограничений в любых приложениях, включая проприетарные.'\n",
    "\n",
    "def letters (some_text):\n",
    "    result_vow = re.findall(r'\\b[ауоиэяюёеaeiouАУОИЭЯЮЁЕAEIOU]', some_text)\n",
    "    result_cons = re.findall(r'\\b[бвгджзйклмнпрстфхцчшщbcdfghjklmnpqrstvwxyzБВГДЖЗЙКЛМНПРСТФХЦЧШЩBCDFGHJKLMNPQRSTVWXYZ]', some_text)\n",
    "    print('Результат:')\n",
    "    print('\\nСлов на гласные буквы:', len(result_vow))\n",
    "    print('Слов на согласные буквы:', len(result_cons))\n",
    "\n",
    "letters(some_text)"
   ]
  },
  {
   "cell_type": "code",
   "execution_count": 89,
   "metadata": {},
   "outputs": [
    {
     "name": "stdout",
     "output_type": "stream",
     "text": [
      "Результат: Номер не валиден\n"
     ]
    }
   ],
   "source": [
    "phone = '123-456-789'\n",
    "\n",
    "def phone_valid (phone):\n",
    "    str_val = ''\n",
    "    if (re.match(r'\\+7\\s{0,1}[( -\\.]{0,1}9\\d{2}[) -\\.]{0,1}\\s{0,1}\\d{3}\\s{0,1}[ -\\.]{0,1}\\s{0,1}\\d{2}\\s{0,1}[ -\\.]{0,1}\\s{0,1}\\d{2}$', phone)) != None:\n",
    "        for el in phone:\n",
    "            if el not in (' ', '-', '.', ')', '('):\n",
    "                str_val = str_val + el\n",
    "        print(f'Результат: {str_val[0:2]}-{str_val[2:5]}-{str_val[5:8]}-{str_val[8:10]}-{str_val[10]}{str_val[11]}')\n",
    "    elif (re.match(r'7\\s{0,1}[( -\\.]{0,1}9\\d{2}[) -\\.]{0,1}\\s{0,1}\\d{3}\\s{0,1}[ -\\.]{0,1}\\s{0,1}\\d{2}\\s{0,1}[ -\\.]{0,1}\\s{0,1}\\d{2}$', phone)) != None:\n",
    "        for el in phone:\n",
    "            if el not in (' ', '-', '.', ')', '('):\n",
    "                str_val = str_val + el\n",
    "        print(f'Результат: +{str_val[0]}-{str_val[1:4]}-{str_val[4:7]}-{str_val[7:9]}-{str_val[9]}{str_val[10]}')\n",
    "    elif (re.match(r'9\\d{2}[) -\\.]{0,1}\\s{0,1}\\d{3}\\s{0,1}[ -\\.]{0,1}\\s{0,1}\\d{2}\\s{0,1}[ -\\.]{0,1}\\s{0,1}\\d{2}$', phone)) != None:\n",
    "        for el in phone:\n",
    "            if el not in (' ', '-', '.', ')', '('):\n",
    "                str_val = str_val + el\n",
    "        print(f'Результат: +7-{str_val[0:3]}-{str_val[3:6]}-{str_val[6:8]}-{str_val[8]}{str_val[9]}')\n",
    "    elif (re.match(r'8\\s{0,1}[( -\\.]{0,1}9\\d{2}[) -\\.]{0,1}\\s{0,1}\\d{3}\\s{0,1}[ -\\.]{0,1}\\s{0,1}\\d{2}\\s{0,1}[ -\\.]{0,1}\\s{0,1}\\d{2}$', phone)) != None:\n",
    "        for el in phone:\n",
    "            if el not in (' ', '-', '.', ')', '('):\n",
    "                str_val = str_val + el\n",
    "        print(f'Результат: +7-{str_val[1:4]}-{str_val[4:7]}-{str_val[7:9]}-{str_val[9]}{str_val[10]}')\n",
    "    else:\n",
    "        print('Результат: Номер не валиден')\n",
    "\n",
    "phone_valid(phone)"
   ]
  }
 ],
 "metadata": {
  "kernelspec": {
   "display_name": "Python 3",
   "language": "python",
   "name": "python3"
  },
  "language_info": {
   "codemirror_mode": {
    "name": "ipython",
    "version": 3
   },
   "file_extension": ".py",
   "mimetype": "text/x-python",
   "name": "python",
   "nbconvert_exporter": "python",
   "pygments_lexer": "ipython3",
   "version": "3.8.5"
  }
 },
 "nbformat": 4,
 "nbformat_minor": 4
}

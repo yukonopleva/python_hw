{
 "cells": [
  {
   "cell_type": "code",
   "execution_count": 14,
   "metadata": {},
   "outputs": [
    {
     "name": "stdout",
     "output_type": "stream",
     "text": [
      "The Moscow Times:  2002-10-02 00:00:00\n",
      "The Guardian:  2013-10-11 00:00:00\n",
      "Daily News:  1977-08-18 00:00:00\n"
     ]
    }
   ],
   "source": [
    "from datetime import datetime\n",
    "\n",
    "msc_times = 'Wednesday, October 2, 2002'\n",
    "guard = 'Friday, 11.10.13'\n",
    "day_news = 'Thursday, 18 August 1977'\n",
    "\n",
    "print('The Moscow Times: ', datetime.strptime(msc_times, '%A, %B %d, %Y'))\n",
    "print('The Guardian: ', datetime.strptime(guard, '%A, %d.%m.%y'))\n",
    "print('Daily News: ', datetime.strptime(day_news, '%A, %d %B %Y'))"
   ]
  },
  {
   "cell_type": "code",
   "execution_count": 32,
   "metadata": {},
   "outputs": [
    {
     "name": "stdout",
     "output_type": "stream",
     "text": [
      "True\n",
      "False\n",
      "False\n"
     ]
    }
   ],
   "source": [
    "from datetime import datetime\n",
    "\n",
    "stream = ['2018-04-02', '2018-02-29', '2018-19-02']\n",
    "\n",
    "\n",
    "def date_check(stream):\n",
    "    for el in stream:\n",
    "        try:\n",
    "            stream_date = datetime.strptime(el, '%Y-%m-%d')\n",
    "            print('True')\n",
    "        except:\n",
    "            print('False')\n",
    "            pass\n",
    "\n",
    "date_check(stream)"
   ]
  },
  {
   "cell_type": "code",
   "execution_count": 45,
   "metadata": {},
   "outputs": [
    {
     "name": "stdout",
     "output_type": "stream",
     "text": [
      "Введите дату начала периода: 2019-01-01\n",
      "Введите дату окончания периода: 2019-02-05\n",
      "['2019-01-01', '2019-01-02', '2019-01-03', '2019-01-04', '2019-01-05', '2019-01-06', '2019-01-07', '2019-01-08', '2019-01-09', '2019-01-10', '2019-01-11', '2019-01-12', '2019-01-13', '2019-01-14', '2019-01-15', '2019-01-16', '2019-01-17', '2019-01-18', '2019-01-19', '2019-01-20', '2019-01-21', '2019-01-22', '2019-01-23', '2019-01-24', '2019-01-25', '2019-01-26', '2019-01-27', '2019-01-28', '2019-01-29', '2019-01-30', '2019-01-31', '2019-02-01', '2019-02-02', '2019-02-03', '2019-02-04', '2019-02-05']\n"
     ]
    }
   ],
   "source": [
    "from datetime import datetime\n",
    "from datetime import timedelta\n",
    "\n",
    "start_date = input('Введите дату начала периода: ')\n",
    "end_date = input('Введите дату окончания периода: ')\n",
    "\n",
    "\n",
    "def dates_between(start_date, end_date):\n",
    "    err = []\n",
    "    dates = []\n",
    "    if start_date >= end_date:\n",
    "        print(err)\n",
    "    else:\n",
    "        try:\n",
    "            start_datetime = datetime.strptime(start_date, '%Y-%m-%d')\n",
    "            end_datetime = datetime.strptime(end_date, '%Y-%m-%d')\n",
    "            dates.append(start_date)\n",
    "            while start_date < end_date:\n",
    "                start_datetime = datetime.strptime(start_date, '%Y-%m-%d')\n",
    "                start_date = (start_datetime + timedelta(days=1)).strftime('%Y-%m-%d')\n",
    "                dates.append(start_date)\n",
    "            print(dates)\n",
    "        except:\n",
    "            print(err)                 \n",
    "        \n",
    "dates_between(start_date, end_date)"
   ]
  },
  {
   "cell_type": "code",
   "execution_count": null,
   "metadata": {},
   "outputs": [],
   "source": [
    "#1. Ошибка означает, что индекс вышел за границы имеющегося для него диапазона чисел.\n",
    "#2. При первом вызове функции удаляется -1й элемент списка default_list и возвращается элемент, с индексом default_list[1] \n",
    "# в данном случае - это 'A101'. При повторном вызове функции также удаляется -1 элемент списка (теперь это 'A101') и должен\n",
    "# возвратиться элемент, с индексом default_list[1], которого после последнего удаления больше нет - сейчас список\n",
    "# состоит только из одного элемента с индексом 0."
   ]
  }
 ],
 "metadata": {
  "kernelspec": {
   "display_name": "Python 3",
   "language": "python",
   "name": "python3"
  },
  "language_info": {
   "codemirror_mode": {
    "name": "ipython",
    "version": 3
   },
   "file_extension": ".py",
   "mimetype": "text/x-python",
   "name": "python",
   "nbconvert_exporter": "python",
   "pygments_lexer": "ipython3",
   "version": "3.8.5"
  }
 },
 "nbformat": 4,
 "nbformat_minor": 4
}

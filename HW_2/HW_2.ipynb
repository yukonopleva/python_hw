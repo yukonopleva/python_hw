{
 "cells": [
  {
   "cell_type": "code",
   "execution_count": 9,
   "metadata": {},
   "outputs": [
    {
     "name": "stdout",
     "output_type": "stream",
     "text": [
      "Фразы равной длины\n"
     ]
    }
   ],
   "source": [
    "phrase_1 = 'Насколько проще было бы писать программы, если бы не заказчики'\n",
    "phrase_2 = 'Насколько проще было бы писать программы, если бы не заказчики'\n",
    "\n",
    "if len(phrase_1) > len(phrase_2):\n",
    "        print('Фраза 1 длиннее фразы 2')\n",
    "elif len(phrase_1) < len(phrase_2):\n",
    "    print('Фраза 2 длиннее фразы 1')\n",
    "else: \n",
    "    print('Фразы равной длины')"
   ]
  },
  {
   "cell_type": "code",
   "execution_count": 8,
   "metadata": {},
   "outputs": [
    {
     "name": "stdout",
     "output_type": "stream",
     "text": [
      "Обычный год\n"
     ]
    }
   ],
   "source": [
    "year = 2019\n",
    "\n",
    "if (year%400)==0:\n",
    "    print('Високосный год')\n",
    "elif (year%100)==0:\n",
    "    print('Обычный год')\n",
    "elif (year%4)==0:\n",
    "    print('Високосный год')\n",
    "else:\n",
    "    print('Обычный год')"
   ]
  },
  {
   "cell_type": "code",
   "execution_count": 10,
   "metadata": {},
   "outputs": [
    {
     "name": "stdout",
     "output_type": "stream",
     "text": [
      "Введите день: 29\n",
      "Введите месяц: Октябрь\n",
      "Ваш знак зодиака: Скорпион\n"
     ]
    }
   ],
   "source": [
    "day = input(\"Введите день: \")\n",
    "month = input(\"Введите месяц: \")\n",
    "\n",
    "if (month =='Март' and day >= '21') or (month =='Апрель' and day <= '19'):\n",
    "    print('Ваш знак зодиака: Овен')\n",
    "elif (month =='Апрель' and day >= '20') or (month =='Май' and day <= '20'):\n",
    "    print('Ваш знак зодиака: Телец')\n",
    "elif (month =='Май' and day >= '21') or (month =='Июнь' and day <= '20'):\n",
    "    print('Ваш знак зодиака: Близнецы')\n",
    "elif (month =='Июнь' and day >= '21') or (month =='Июль' and day <= '22'):\n",
    "    print('Ваш знак зодиака: Рак')\n",
    "elif (month =='Июль' and day >= '23') or (month =='Август' and day <= '22'):\n",
    "    print('Ваш знак зодиака: Лев')\n",
    "elif (month =='Август' and day >= '23') or (month =='Сентябрь' and day <= '22'):\n",
    "    print('Ваш знак зодиака: Дева')\n",
    "elif (month =='Сентябрь' and day >= '23') or (month =='Октябрь' and day <= '22'):\n",
    "    print('Ваш знак зодиака: Весы')\n",
    "elif (month =='Октябрь' and day >= '23') or (month =='Ноябрь' and day <= '21'):\n",
    "    print('Ваш знак зодиака: Скорпион')\n",
    "elif (month =='Ноябрь' and day >= '22') or (month =='Декабрь' and day <= '21'):\n",
    "    print('Ваш знак зодиака: Стрелец')\n",
    "elif (month =='Декабрь' and day >= '22') or (month =='Январь' and day <= '19'):\n",
    "    print('Ваш знак зодиака: Козерог')\n",
    "elif (month =='Январь' and day >= '20') or (month =='Февраль' and day <= '18'):\n",
    "    print('Ваш знак зодиака: Водолей')\n",
    "elif (month =='Февраль' and day >= '19') or (month =='Март' and day <= '20'):\n",
    "    print('Ваш знак зодиака: Рыбы')\n",
    "else:\n",
    "    print('Значение введено неверно')"
   ]
  },
  {
   "cell_type": "code",
   "execution_count": 14,
   "metadata": {},
   "outputs": [
    {
     "name": "stdout",
     "output_type": "stream",
     "text": [
      "Упаковка для лыж\n"
     ]
    }
   ],
   "source": [
    "width = 45\n",
    "length = 205\n",
    "height = 45\n",
    "\n",
    "if length > 200:\n",
    "    print('Упаковка для лыж')\n",
    "elif width < 15 and length < 15 and height < 15:\n",
    "    print('Коробка №1')\n",
    "elif (width > 15 and width < 50) or (length > 15 and length < 50) or (height > 15 and height < 50):\n",
    "    print('Коробка №2')\n",
    "else:\n",
    "    print('Стандартная коробка №3')"
   ]
  },
  {
   "cell_type": "code",
   "execution_count": 15,
   "metadata": {},
   "outputs": [
    {
     "name": "stdout",
     "output_type": "stream",
     "text": [
      "Счастливый билет\n"
     ]
    }
   ],
   "source": [
    "number = '123321'\n",
    "\n",
    "if (int(number[0]) + int(number[1]) + int(number[2])) == (int(number[3]) + int(number[4]) + int(number[5])):\n",
    "    print('Счастливый билет')\n",
    "elif (int(number[0]) + int(number[1]) + int(number[2])) != (int(number[3]) + int(number[4]) + int(number[5])):\n",
    "    print('Несчастливый билет')"
   ]
  },
  {
   "cell_type": "code",
   "execution_count": 16,
   "metadata": {},
   "outputs": [
    {
     "name": "stdout",
     "output_type": "stream",
     "text": [
      "Введите тип фигуры: Треугольник\n",
      "Введите длину стороны A: 2\n",
      "Введите длину стороны B: 2\n",
      "Введите длину стороны C: 3\n",
      "Площадь треугольника:  1.98\n"
     ]
    }
   ],
   "source": [
    "figure_type = input(\"Введите тип фигуры: \")\n",
    "import math\n",
    "\n",
    "if figure_type == 'Круг':\n",
    "    circle_radius = input(\"Введите радиус круга: \")\n",
    "    print(\"Площадь круга: \", (round((math.pi * int(circle_radius)**2), 2)))\n",
    "elif figure_type == 'Треугольник':\n",
    "    t_side_a = input(\"Введите длину стороны A: \")\n",
    "    t_side_b = input(\"Введите длину стороны B: \")\n",
    "    t_side_c = input(\"Введите длину стороны C: \")\n",
    "    half_perimetr = (int(t_side_a) + int(t_side_b) + int(t_side_c))/2\n",
    "    print(\"Площадь треугольника: \", (round((math.sqrt(half_perimetr * (half_perimetr - int(t_side_a)) * (half_perimetr - int(t_side_b)) * (half_perimetr - int(t_side_c)))), 2)))\n",
    "elif figure_type == 'Прямоугольник':\n",
    "    p_side_a = input(\"Введите длину стороны A: \")\n",
    "    p_side_b = input(\"Введите длину стороны B: \")\n",
    "    print(\"Площадь прямоугольника: \", int(p_side_a) * int(p_side_b))\n",
    "else:\n",
    "    print(\"Неизвестная фигура\")"
   ]
  }
 ],
 "metadata": {
  "kernelspec": {
   "display_name": "Python 3",
   "language": "python",
   "name": "python3"
  },
  "language_info": {
   "codemirror_mode": {
    "name": "ipython",
    "version": 3
   },
   "file_extension": ".py",
   "mimetype": "text/x-python",
   "name": "python",
   "nbconvert_exporter": "python",
   "pygments_lexer": "ipython3",
   "version": "3.8.5"
  }
 },
 "nbformat": 4,
 "nbformat_minor": 4
}

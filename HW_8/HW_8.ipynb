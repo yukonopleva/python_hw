{
 "cells": [
  {
   "cell_type": "code",
   "execution_count": 7,
   "metadata": {},
   "outputs": [
    {
     "name": "stdout",
     "output_type": "stream",
     "text": [
      "СДР (специальные права заимствования)\n"
     ]
    }
   ],
   "source": [
    "import requests\n",
    "\n",
    "full_data = requests.get('https://www.cbr-xml-daily.ru/daily_json.js').json()\n",
    "list_data = list(full_data['Valute'].values())\n",
    "\n",
    "def max_currency_name (list_data):\n",
    "    i = 0\n",
    "    while i < (len(list_data) - 1):\n",
    "        if i == 0:\n",
    "            max_value = list_data[i]['Value']\n",
    "            max_value_name = list_data[i]['Name']\n",
    "        elif list_data[i]['Value'] > max_value:\n",
    "            max_value = list_data[i]['Value']\n",
    "            max_value_name = list_data[i]['Name']\n",
    "        i += 1\n",
    "    return max_value_name\n",
    "\n",
    "print(max_currency_name (list_data))"
   ]
  },
  {
   "cell_type": "code",
   "execution_count": 8,
   "metadata": {},
   "outputs": [],
   "source": [
    "class Rate:\n",
    "    def __init__(self, format_='value'):\n",
    "        self.format = format_\n",
    "    \n",
    "    def exchange_rates(self):\n",
    "        \"\"\"\n",
    "        Возвращает ответ сервиса с информацией о валютах в виде:\n",
    "        \n",
    "        {\n",
    "            'AMD': {\n",
    "                'CharCode': 'AMD',\n",
    "                'ID': 'R01060',\n",
    "                'Name': 'Армянских драмов',\n",
    "                'Nominal': 100,\n",
    "                'NumCode': '051',\n",
    "                'Previous': 14.103,\n",
    "                'Value': 14.0879\n",
    "                },\n",
    "            ...\n",
    "        }\n",
    "        \"\"\"\n",
    "        self.r = requests.get('https://www.cbr-xml-daily.ru/daily_json.js')\n",
    "        return self.r.json()['Valute']\n",
    "    \n",
    "    def make_format(self, currency):\n",
    "        \"\"\"\n",
    "        Возвращает информацию о валюте currency в двух вариантах:\n",
    "        - полная информация о валюте при self.format = 'full':\n",
    "        Rate('full').make_format('EUR')\n",
    "        {\n",
    "            'CharCode': 'EUR',\n",
    "            'ID': 'R01239',\n",
    "            'Name': 'Евро',\n",
    "            'Nominal': 1,\n",
    "            'NumCode': '978',\n",
    "            'Previous': 79.6765,\n",
    "            'Value': 79.4966\n",
    "        }\n",
    "        \n",
    "        Rate('value').make_format('EUR')\n",
    "        79.4966\n",
    "        \"\"\"\n",
    "        response = self.exchange_rates()\n",
    "        \n",
    "        if currency in response:\n",
    "            if self.format == 'full':\n",
    "                return response[currency]\n",
    "            \n",
    "            if self.format == 'value':\n",
    "                return response[currency]['Value']\n",
    "        \n",
    "        return 'Error'\n",
    "    \n",
    "    def eur(self, diff=True):\n",
    "        \"\"\"Возвращает курс евро на сегодня в формате self.format или разницу между предыдущим и текущим курсами, если diff=True\"\"\"\n",
    "        if diff:\n",
    "            return round((self.exchange_rates()['EUR']['Previous'] - self.exchange_rates()['EUR']['Value']), 4)\n",
    "        else:\n",
    "            return self.make_format('EUR')\n",
    "    \n",
    "    def usd(self, diff=True):\n",
    "        \"\"\"Возвращает курс доллара на сегодня в формате self.format или разницу между предыдущим и текущим курсами, если diff=True\"\"\"\n",
    "        if diff:\n",
    "            return round((self.exchange_rates()['USD']['Previous'] - self.exchange_rates()['USD']['Value']), 4)\n",
    "        else:\n",
    "            return self.make_format('USD')\n",
    "    \n",
    "    def brl(self, diff=True):\n",
    "        \"\"\"Возвращает курс бразильского реала на сегодня в формате self.format или разницу между предыдущим и текущим курсами, если diff=True\"\"\"\n",
    "        if diff:\n",
    "            return round((self.exchange_rates()['BRL']['Previous'] - self.exchange_rates()['BRL']['Value']), 4)\n",
    "        else:\n",
    "            return self.make_format('BRL')"
   ]
  },
  {
   "cell_type": "code",
   "execution_count": 9,
   "metadata": {},
   "outputs": [],
   "source": [
    "r = Rate(format_='full')"
   ]
  },
  {
   "cell_type": "code",
   "execution_count": 10,
   "metadata": {},
   "outputs": [
    {
     "data": {
      "text/plain": [
       "0.395"
      ]
     },
     "execution_count": 10,
     "metadata": {},
     "output_type": "execute_result"
    }
   ],
   "source": [
    "r.usd()"
   ]
  },
  {
   "cell_type": "code",
   "execution_count": 29,
   "metadata": {},
   "outputs": [],
   "source": [
    "class Employee:\n",
    "    def __init__(self, name, seniority):\n",
    "        self.name = name\n",
    "        self.seniority = seniority\n",
    "        \n",
    "        self.grade = 1\n",
    "    \n",
    "    def grade_up(self):\n",
    "        \"\"\"Повышает уровень сотрудника\"\"\"\n",
    "        self.grade += 1\n",
    "    \n",
    "    def publish_grade(self):\n",
    "        \"\"\"Публикация результатов аккредитации сотрудников\"\"\"\n",
    "        print(self.name, self.grade)\n",
    "    \n",
    "    def check_if_it_is_time_for_upgrade(self):\n",
    "        pass"
   ]
  },
  {
   "cell_type": "code",
   "execution_count": 35,
   "metadata": {},
   "outputs": [],
   "source": [
    "class Designer(Employee):\n",
    "    def __init__(self, name, seniority, world_pay=2):\n",
    "        super().__init__(name, seniority)\n",
    "        self.world_pay = world_pay\n",
    "        #world_pay - медждународ. премия. Если по умолчанию берем, что у сотрудника 2 таких премии, значит 2*2 балла\n",
    "        #изначально должно быть учтено в баллах аккредитации\n",
    "        self.seniority = self.seniority + (self.world_pay * 2)\n",
    "        #учитываем случаи, когда сотрудник может стартовать не с 0 баллов seniority\n",
    "        self.grade = self.seniority // 7\n",
    "    \n",
    "    def check_if_it_is_time_for_upgrade(self):\n",
    "        # для каждой аккредитации увеличиваем счетчик на 1\n",
    "        self.seniority += 1\n",
    "        \n",
    "        # условие повышения сотрудника из презентации\n",
    "        if self.seniority % 7 == 0:\n",
    "            self.grade_up()\n",
    "        \n",
    "        # публикация результатов\n",
    "        return self.publish_grade()"
   ]
  },
  {
   "cell_type": "code",
   "execution_count": 36,
   "metadata": {},
   "outputs": [],
   "source": [
    "vova = Designer('Владимир', 11)"
   ]
  },
  {
   "cell_type": "code",
   "execution_count": 37,
   "metadata": {},
   "outputs": [
    {
     "name": "stdout",
     "output_type": "stream",
     "text": [
      "Владимир 2\n",
      "Владимир 2\n",
      "Владимир 2\n",
      "Владимир 2\n",
      "Владимир 2\n",
      "Владимир 3\n",
      "Владимир 3\n",
      "Владимир 3\n",
      "Владимир 3\n",
      "Владимир 3\n",
      "Владимир 3\n",
      "Владимир 3\n",
      "Владимир 4\n",
      "Владимир 4\n",
      "Владимир 4\n",
      "Владимир 4\n",
      "Владимир 4\n",
      "Владимир 4\n",
      "Владимир 4\n",
      "Владимир 5\n"
     ]
    }
   ],
   "source": [
    "for i in range(20):\n",
    "    vova.check_if_it_is_time_for_upgrade()"
   ]
  }
 ],
 "metadata": {
  "kernelspec": {
   "display_name": "Python 3",
   "language": "python",
   "name": "python3"
  },
  "language_info": {
   "codemirror_mode": {
    "name": "ipython",
    "version": 3
   },
   "file_extension": ".py",
   "mimetype": "text/x-python",
   "name": "python",
   "nbconvert_exporter": "python",
   "pygments_lexer": "ipython3",
   "version": "3.8.5"
  }
 },
 "nbformat": 4,
 "nbformat_minor": 4
}

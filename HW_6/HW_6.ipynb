{
 "cells": [
  {
   "cell_type": "code",
   "execution_count": 2,
   "metadata": {},
   "outputs": [],
   "source": [
    "import json\n",
    "d = {}\n",
    "\n",
    "with open('purchase_log.txt', 'r', encoding = 'utf-8') as f:\n",
    "    next(f)\n",
    "    for line in f:\n",
    "        dict_line = json.loads(line.strip())\n",
    "        d[dict_line['user_id']] = dict_line['category']\n",
    "\n",
    "with open('purchases.txt', 'w') as f2write:\n",
    "    f2write.write(str(d))    "
   ]
  },
  {
   "cell_type": "code",
   "execution_count": 3,
   "metadata": {
    "scrolled": false
   },
   "outputs": [],
   "source": [
    "import json\n",
    "\n",
    "with open('visit_log.csv', 'r', encoding = 'utf-8') as f:\n",
    "    with open('purchases.txt', 'r') as f1:\n",
    "        with open('funnel.csv', 'w') as f2write:\n",
    "            n = (f1.readline()).strip(\"{'\").strip(\"'}\").replace(\"': '\", ',').replace(\"', '\", ',')\n",
    "            s = n.split(',')\n",
    "            next(f)\n",
    "            for line in f:\n",
    "                d = line.strip().split(',')\n",
    "                if d[0] in n:\n",
    "                    d.append(s[s.index(d[0]) + 1])\n",
    "                    f2write.write(str(d) + '\\n')"
   ]
  }
 ],
 "metadata": {
  "kernelspec": {
   "display_name": "Python 3",
   "language": "python",
   "name": "python3"
  },
  "language_info": {
   "codemirror_mode": {
    "name": "ipython",
    "version": 3
   },
   "file_extension": ".py",
   "mimetype": "text/x-python",
   "name": "python",
   "nbconvert_exporter": "python",
   "pygments_lexer": "ipython3",
   "version": "3.8.5"
  }
 },
 "nbformat": 4,
 "nbformat_minor": 4
}

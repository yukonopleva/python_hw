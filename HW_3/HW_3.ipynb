{
 "cells": [
  {
   "cell_type": "code",
   "execution_count": 21,
   "metadata": {},
   "outputs": [
    {
     "name": "stdout",
     "output_type": "stream",
     "text": [
      "Результат:  t\n"
     ]
    }
   ],
   "source": [
    "word = 'testing'\n",
    "\n",
    "if (len(word) % 2) == 0:\n",
    "    print((word[(len(word) // 2) - 1]) + word[len(word) // 2])\n",
    "else:\n",
    "    print('Результат: ', word[(len(word) // 2)])"
   ]
  },
  {
   "cell_type": "code",
   "execution_count": 25,
   "metadata": {},
   "outputs": [
    {
     "name": "stdout",
     "output_type": "stream",
     "text": [
      "Введите число: 0\n",
      "Результат:  0\n"
     ]
    }
   ],
   "source": [
    "s = 0\n",
    "x = input('Введите число: ')\n",
    "\n",
    "while int(x) != 0:\n",
    "    s = s + int(x)\n",
    "    x = input('Введите число: ')\n",
    "print('Результат: ', s)"
   ]
  },
  {
   "cell_type": "code",
   "execution_count": 38,
   "metadata": {},
   "outputs": [
    {
     "name": "stdout",
     "output_type": "stream",
     "text": [
      "Внимание, кто-то может остаться без пары!\n"
     ]
    }
   ],
   "source": [
    "boys = ['Peter', 'Alex', 'John', 'Arthur', 'Richard', 'Michael']\n",
    "girls = ['Kate', 'Liza', 'Kira', 'Emma', 'Trisha']\n",
    "x = 0\n",
    "\n",
    "if len(boys) == len(girls):\n",
    "    boys = sorted(boys)\n",
    "    girls = sorted(girls)\n",
    "    print('Идеальные пары: ')\n",
    "    while x != len(boys): \n",
    "        print(boys[x], 'и', girls[x])\n",
    "        x = x + 1\n",
    "else:\n",
    "    print('Внимание, кто-то может остаться без пары!')"
   ]
  },
  {
   "cell_type": "code",
   "execution_count": 42,
   "metadata": {},
   "outputs": [
    {
     "name": "stdout",
     "output_type": "stream",
     "text": [
      "Средняя температура в странах: \n",
      "Thailand  -  23.9  C\n",
      "Germany  -  13.8  C\n",
      "Russia  -  3.7  C\n",
      "Poland  -  12.0  C\n"
     ]
    }
   ],
   "source": [
    "countries_temperature = [\n",
    "['Thailand', [75.2, 77, 78.8, 73.4, 68, 75.2, 77]],\n",
    "['Germany', [57.2, 55.4, 59, 59, 53.6]],\n",
    "['Russia', [35.6, 37.4, 39.2, 41, 42.8, 39.2, 35.6]],\n",
    "['Poland', [50, 50, 53.6, 57.2, 55.4, 55.4]]\n",
    "]\n",
    "\n",
    "print('Средняя температура в странах: ')\n",
    "for x in countries_temperature:\n",
    "    avr_t = round((((sum(x[1])/len(x[1])) - 32) / 1.8), 1)\n",
    "    print(x[0], ' - ', avr_t, ' C')"
   ]
  },
  {
   "cell_type": "code",
   "execution_count": 1,
   "metadata": {},
   "outputs": [
    {
     "name": "stdout",
     "output_type": "stream",
     "text": [
      "Результат: \n",
      "Среднее количество просмотров на уникального пользователя:  145.33\n"
     ]
    }
   ],
   "source": [
    "import copy\n",
    "\n",
    "stream = [\n",
    "'2018-01-01,user100,150',\n",
    "'2018-01-07,user99,205',\n",
    "'2018-03-29,user1001,81'\n",
    "]\n",
    "user_count = 0\n",
    "summ = 0\n",
    "\n",
    "for i in range(len(stream)):\n",
    "    stream[i] = stream[i].split(',')\n",
    "    summ = summ + int(stream[i][2])\n",
    "    stream[i] = stream[i][1]\n",
    "stream_list = copy.copy(sorted(stream))\n",
    "for i in range(len(stream_list)):\n",
    "    if i==0:\n",
    "        user_count = user_count + 1\n",
    "    elif stream_list[i] == stream_list[i-1]:\n",
    "        continue\n",
    "    else:\n",
    "        user_count = user_count + 1\n",
    "print('Результат: ')\n",
    "print('Среднее количество просмотров на уникального пользователя: ', round((summ/user_count), 2))"
   ]
  },
  {
   "cell_type": "code",
   "execution_count": 25,
   "metadata": {},
   "outputs": [
    {
     "name": "stdout",
     "output_type": "stream",
     "text": [
      "Введите числа:\n",
      "1 1 1 1 1 2 2 2\n",
      "Результат: \n",
      "1 2\n"
     ]
    }
   ],
   "source": [
    "numbers = (sorted(input('Введите числа:\\n').split()))\n",
    "dup_numbers = []\n",
    "\n",
    "for i in range(len(numbers)):\n",
    "    if i == 0:\n",
    "        if (numbers.count(numbers[i])) > 1:\n",
    "            dup_numbers.append(numbers[i])\n",
    "        else:\n",
    "            continue\n",
    "    elif numbers[i] != numbers[i-1]:\n",
    "        if (numbers.count(numbers[i])) > 1:\n",
    "            dup_numbers.append(numbers[i])\n",
    "        else:\n",
    "            continue    \n",
    "    else:\n",
    "        continue\n",
    "print('Результат: ')\n",
    "print(' '.join(dup_numbers))"
   ]
  }
 ],
 "metadata": {
  "kernelspec": {
   "display_name": "Python 3",
   "language": "python",
   "name": "python3"
  },
  "language_info": {
   "codemirror_mode": {
    "name": "ipython",
    "version": 3
   },
   "file_extension": ".py",
   "mimetype": "text/x-python",
   "name": "python",
   "nbconvert_exporter": "python",
   "pygments_lexer": "ipython3",
   "version": "3.8.5"
  }
 },
 "nbformat": 4,
 "nbformat_minor": 4
}
